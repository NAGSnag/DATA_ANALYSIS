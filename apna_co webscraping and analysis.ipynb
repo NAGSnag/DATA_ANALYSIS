{
 "cells": [
  {
   "cell_type": "code",
   "execution_count": null,
   "id": "d57af109",
   "metadata": {},
   "outputs": [],
   "source": []
  },
  {
   "cell_type": "code",
   "execution_count": 2,
   "id": "05a2d9e8",
   "metadata": {},
   "outputs": [],
   "source": [
    "from bs4 import BeautifulSoup\n",
    "import requests\n",
    "\n",
    "url='https://apna.co/jobs/jobs-in-bengaluru?city_id=4&education_level=5&fall_back_type=location'\n",
    "\n",
    "content=requests.get(url)\n",
    "content=content.content\n",
    "soup=BeautifulSoup(content,'html.parser')\n",
    "temp=[]\n",
    "joblis=[]\n",
    "\n",
    "for i in range(110):\n",
    "    url = f'https://apna.co/jobs?page={i}&city_id=4&education_level=5&fall_back_type=location'\n",
    "    content = requests.get(url)\n",
    "    content = content.content\n",
    "    soup = BeautifulSoup(content, 'html.parser')\n",
    "    d = soup.find_all(['div','a'], class_='JobCardList__Wrapper-sc-1v9ot9b-0 gzjzxw')\n",
    "    for i in d:\n",
    "        temp.append(i.getText().split('Years'))\n",
    "for i in temp:\n",
    "    for j in i:\n",
    "        joblis.append(j.split('\\xa0'))\n",
    "from openpyxl.workbook import Workbook\n",
    "wb=Workbook()\n",
    "sheet=wb.active\n",
    "sheet.title = 'apna.co'\n",
    "header=['company_name','address',\"package\",'type','time','requireents','experience']\n",
    "sheet.append(header)\n",
    "for i in range(len(joblis)):\n",
    "    try:\n",
    "        sheet.append([joblis[i][0],joblis[i][1],joblis[i][2],joblis[i][3],joblis[i][4],joblis[i][5],joblis[i][6]])\n",
    "    except Exception:pass\n",
    "wb.save(filename = 'apna_co.xlsx')"
   ]
  },
  {
   "cell_type": "code",
   "execution_count": 1,
   "id": "836c0c6d",
   "metadata": {},
   "outputs": [],
   "source": [
    "import pandas as pd\n",
    "import matplotlib.pyplot as plt\n"
   ]
  },
  {
   "cell_type": "code",
   "execution_count": 2,
   "id": "63ffd36c",
   "metadata": {},
   "outputs": [
    {
     "data": {
      "text/plain": [
       "array([10,  2,  5,  0,  1,  6,  3], dtype=int64)"
      ]
     },
     "execution_count": 2,
     "metadata": {},
     "output_type": "execute_result"
    }
   ],
   "source": [
    "df=pd.read_csv('apna_co.csv')\n",
    "df=df.fillna(0)\n",
    "df['package']=df['package'].apply(lambda x:x.split(\"-\"))\n",
    "df['min_salary']=df['package'].apply(lambda x:str(x[0])[1:])\n",
    "df['max_salary']=df['package'].apply(lambda x:str(x[1])[2:])\n",
    "df['experience_filter']=df['experience'].apply(lambda x: str(x).split('. '))\n",
    "df['exp']=None\n",
    "for i in range(len(df['experience_filter'])):\n",
    "    try:\n",
    "        df['exp'][i]=df['experience_filter'][i][1]\n",
    "    except Exception:\n",
    "        df['exp'][i]=0\n",
    "df['exp']=df['exp'].apply(lambda x:str(x).split(' ')[0])\n",
    "df['exp']=df['exp'].replace(\"Ltd.\",0)\n",
    "df['exp']=df['exp'].apply(lambda x: int(float(x)))\n",
    "df['exp'].unique()"
   ]
  },
  {
   "cell_type": "code",
   "execution_count": 3,
   "id": "8b8d9cb5",
   "metadata": {},
   "outputs": [],
   "source": [
    "df['add']=df['address'].apply(lambda x:str(x).split(',')[0])"
   ]
  },
  {
   "cell_type": "code",
   "execution_count": 4,
   "id": "8c74184b",
   "metadata": {},
   "outputs": [
    {
     "data": {
      "text/html": [
       "<div>\n",
       "<style scoped>\n",
       "    .dataframe tbody tr th:only-of-type {\n",
       "        vertical-align: middle;\n",
       "    }\n",
       "\n",
       "    .dataframe tbody tr th {\n",
       "        vertical-align: top;\n",
       "    }\n",
       "\n",
       "    .dataframe thead th {\n",
       "        text-align: right;\n",
       "    }\n",
       "</style>\n",
       "<table border=\"1\" class=\"dataframe\">\n",
       "  <thead>\n",
       "    <tr style=\"text-align: right;\">\n",
       "      <th></th>\n",
       "      <th>company_name</th>\n",
       "      <th>type</th>\n",
       "      <th>time</th>\n",
       "      <th>requireents</th>\n",
       "      <th>min_salary</th>\n",
       "      <th>max_salary</th>\n",
       "      <th>exp</th>\n",
       "      <th>add</th>\n",
       "    </tr>\n",
       "  </thead>\n",
       "  <tbody>\n",
       "    <tr>\n",
       "      <th>0</th>\n",
       "      <td>Chief Operating OfficerTechnospan Structures P...</td>\n",
       "      <td>Work from office</td>\n",
       "      <td>Full time</td>\n",
       "      <td>No test required</td>\n",
       "      <td>75,000</td>\n",
       "      <td>1,49,999</td>\n",
       "      <td>10</td>\n",
       "      <td>Jakkur Layout</td>\n",
       "    </tr>\n",
       "    <tr>\n",
       "      <th>1</th>\n",
       "      <td>C/C++ Backend DeveloperAlgo Methods Software &amp;...</td>\n",
       "      <td>Work from office</td>\n",
       "      <td>Full time</td>\n",
       "      <td>No test required</td>\n",
       "      <td>30,000</td>\n",
       "      <td>1,49,999</td>\n",
       "      <td>2</td>\n",
       "      <td>BTM Layout</td>\n",
       "    </tr>\n",
       "    <tr>\n",
       "      <th>2</th>\n",
       "      <td>Data EngineerShrya Solutions</td>\n",
       "      <td>Work from office</td>\n",
       "      <td>Full time</td>\n",
       "      <td>No test required</td>\n",
       "      <td>1,40,000</td>\n",
       "      <td>1,49,000</td>\n",
       "      <td>5</td>\n",
       "      <td>HSR Layout</td>\n",
       "    </tr>\n",
       "    <tr>\n",
       "      <th>3</th>\n",
       "      <td>Branch Sales ManagerIgnites Human Capital Serv...</td>\n",
       "      <td>Work from office</td>\n",
       "      <td>Night shift</td>\n",
       "      <td>No test required</td>\n",
       "      <td>1,00,000</td>\n",
       "      <td>1,42,000</td>\n",
       "      <td>0</td>\n",
       "      <td>Bengaluru/Bangalore</td>\n",
       "    </tr>\n",
       "    <tr>\n",
       "      <th>4</th>\n",
       "      <td>PhysicianLopamudra Hospitals</td>\n",
       "      <td>Work from office</td>\n",
       "      <td>Full time</td>\n",
       "      <td>No test required</td>\n",
       "      <td>50,000</td>\n",
       "      <td>1,49,000</td>\n",
       "      <td>1</td>\n",
       "      <td>Virajpet</td>\n",
       "    </tr>\n",
       "    <tr>\n",
       "      <th>...</th>\n",
       "      <td>...</td>\n",
       "      <td>...</td>\n",
       "      <td>...</td>\n",
       "      <td>...</td>\n",
       "      <td>...</td>\n",
       "      <td>...</td>\n",
       "      <td>...</td>\n",
       "      <td>...</td>\n",
       "    </tr>\n",
       "    <tr>\n",
       "      <th>308</th>\n",
       "      <td>Cafe ManagerConfused Genius</td>\n",
       "      <td>Work from office</td>\n",
       "      <td>Full time</td>\n",
       "      <td>No test required</td>\n",
       "      <td>25,000</td>\n",
       "      <td>26,000</td>\n",
       "      <td>0</td>\n",
       "      <td>Sampangi Rama Nagar</td>\n",
       "    </tr>\n",
       "    <tr>\n",
       "      <th>309</th>\n",
       "      <td>Home TutorAHA Classes</td>\n",
       "      <td>Field job</td>\n",
       "      <td>Full time</td>\n",
       "      <td>No test required</td>\n",
       "      <td>25,000</td>\n",
       "      <td>25,001</td>\n",
       "      <td>0</td>\n",
       "      <td>White Field</td>\n",
       "    </tr>\n",
       "    <tr>\n",
       "      <th>310</th>\n",
       "      <td>Digital Marketing SpecialistPromax Properties</td>\n",
       "      <td>Work from office</td>\n",
       "      <td>Full time</td>\n",
       "      <td>No test required</td>\n",
       "      <td>20,000</td>\n",
       "      <td>75,000</td>\n",
       "      <td>0</td>\n",
       "      <td>Kothanur</td>\n",
       "    </tr>\n",
       "    <tr>\n",
       "      <th>311</th>\n",
       "      <td>E-Commerce ExecutiveJust Shopping</td>\n",
       "      <td>Work from office</td>\n",
       "      <td>Full time</td>\n",
       "      <td>No test required</td>\n",
       "      <td>18,000</td>\n",
       "      <td>25,000</td>\n",
       "      <td>0</td>\n",
       "      <td>Lalbagh West Gate</td>\n",
       "    </tr>\n",
       "    <tr>\n",
       "      <th>312</th>\n",
       "      <td>Sales Support AssociateGreen Tiger Mobility</td>\n",
       "      <td>Field job</td>\n",
       "      <td>Full time</td>\n",
       "      <td>No test required</td>\n",
       "      <td>20,000</td>\n",
       "      <td>26,000</td>\n",
       "      <td>0</td>\n",
       "      <td>Bommanahalli</td>\n",
       "    </tr>\n",
       "  </tbody>\n",
       "</table>\n",
       "<p>313 rows × 8 columns</p>\n",
       "</div>"
      ],
      "text/plain": [
       "                                          company_name               type  \\\n",
       "0    Chief Operating OfficerTechnospan Structures P...   Work from office   \n",
       "1    C/C++ Backend DeveloperAlgo Methods Software &...   Work from office   \n",
       "2                         Data EngineerShrya Solutions   Work from office   \n",
       "3    Branch Sales ManagerIgnites Human Capital Serv...  Work from office    \n",
       "4                         PhysicianLopamudra Hospitals   Work from office   \n",
       "..                                                 ...                ...   \n",
       "308                        Cafe ManagerConfused Genius   Work from office   \n",
       "309                              Home TutorAHA Classes          Field job   \n",
       "310      Digital Marketing SpecialistPromax Properties   Work from office   \n",
       "311                  E-Commerce ExecutiveJust Shopping   Work from office   \n",
       "312        Sales Support AssociateGreen Tiger Mobility          Field job   \n",
       "\n",
       "            time        requireents min_salary max_salary  exp  \\\n",
       "0     Full time   No test required     75,000    1,49,999   10   \n",
       "1     Full time   No test required     30,000    1,49,999    2   \n",
       "2     Full time   No test required   1,40,000    1,49,000    5   \n",
       "3    Night shift  No test required   1,00,000    1,42,000    0   \n",
       "4     Full time   No test required     50,000    1,49,000    1   \n",
       "..           ...                ...        ...        ...  ...   \n",
       "308   Full time   No test required     25,000      26,000    0   \n",
       "309   Full time   No test required     25,000      25,001    0   \n",
       "310   Full time   No test required     20,000      75,000    0   \n",
       "311   Full time   No test required     18,000      25,000    0   \n",
       "312   Full time   No test required     20,000      26,000    0   \n",
       "\n",
       "                       add  \n",
       "0            Jakkur Layout  \n",
       "1               BTM Layout  \n",
       "2               HSR Layout  \n",
       "3     Bengaluru/Bangalore   \n",
       "4                 Virajpet  \n",
       "..                     ...  \n",
       "308    Sampangi Rama Nagar  \n",
       "309            White Field  \n",
       "310               Kothanur  \n",
       "311      Lalbagh West Gate  \n",
       "312           Bommanahalli  \n",
       "\n",
       "[313 rows x 8 columns]"
      ]
     },
     "execution_count": 4,
     "metadata": {},
     "output_type": "execute_result"
    }
   ],
   "source": [
    "df.drop(['package', 'address','experience','experience_filter'], axis=1,inplace=True)\n",
    "df"
   ]
  },
  {
   "cell_type": "code",
   "execution_count": 5,
   "id": "00081efe",
   "metadata": {
    "scrolled": false
   },
   "outputs": [
    {
     "data": {
      "image/png": "[encoded data removed]",
      "text/plain": [
       "<Figure size 720x720 with 1 Axes>"
      ]
     },
     "metadata": {
      "needs_background": "light"
     },
     "output_type": "display_data"
    }
   ],
   "source": [
    "fig = plt.figure(figsize=(10,10))\n",
    "plt.barh(df['add'].value_counts().index[15::-1],width=df['add'].value_counts().values[15::-1])\n",
    "plt.title(\"location of companies\")\n",
    "plt.show()"
   ]
  },
  {
   "cell_type": "code",
   "execution_count": 6,
   "id": "84d54891",
   "metadata": {
    "scrolled": true
   },
   "outputs": [
    {
     "data": {
      "image/png": "[encoded data removed]",
      "text/plain": [
       "<Figure size 432x288 with 1 Axes>"
      ]
     },
     "metadata": {
      "needs_background": "light"
     },
     "output_type": "display_data"
    }
   ],
   "source": [
    "plt.bar(['0','2','1','5','3','6','10'],df['exp'].value_counts().values)\n",
    "plt.title(\"experience companies required\")\n",
    "plt.xlabel(\"experience in years\")\n",
    "plt.ylabel(\"number of companies\")\n",
    "plt.show()\n"
   ]
  },
  {
   "cell_type": "code",
   "execution_count": null,
   "id": "f172f6aa",
   "metadata": {},
   "outputs": [],
   "source": []
  },
  {
   "cell_type": "code",
   "execution_count": 7,
   "id": "e079b5da",
   "metadata": {},
   "outputs": [
    {
     "data": {
      "image/png": "[encoded data removed]",
      "text/plain": [
       "<Figure size 432x288 with 1 Axes>"
      ]
     },
     "metadata": {
      "needs_background": "light"
     },
     "output_type": "display_data"
    }
   ],
   "source": [
    "plt.plot(df['min_salary'].value_counts().index,df['min_salary'].value_counts().values)\n",
    "plt.title(\"minimum salary\")\n",
    "plt.xticks(rotation=90)\n",
    "plt.ylabel(\"number of companies\")\n",
    "plt.show()\n"
   ]
  },
  {
   "cell_type": "code",
   "execution_count": 8,
   "id": "fbd15361",
   "metadata": {},
   "outputs": [
    {
     "data": {
      "image/png": "[encoded data removed]",
      "text/plain": [
       "<Figure size 720x360 with 1 Axes>"
      ]
     },
     "metadata": {
      "needs_background": "light"
     },
     "output_type": "display_data"
    }
   ],
   "source": [
    "fig = plt.figure(figsize=(10,5))\n",
    "plt.plot(df['max_salary'].value_counts().index,df['max_salary'].value_counts().values)\n",
    "plt.xticks(rotation=90)\n",
    "plt.ylabel(\"max salary\")\n",
    "plt.show()"
   ]
  },
  {
   "cell_type": "code",
   "execution_count": 9,
   "id": "b1df9576",
   "metadata": {},
   "outputs": [
    {
     "data": {
      "text/plain": [
       "<BarContainer object of 4 artists>"
      ]
     },
     "execution_count": 9,
     "metadata": {},
     "output_type": "execute_result"
    },
    {
     "data": {
      "image/png": "[encoded data removed]",
      "text/plain": [
       "<Figure size 432x288 with 1 Axes>"
      ]
     },
     "metadata": {
      "needs_background": "light"
     },
     "output_type": "display_data"
    }
   ],
   "source": [
    "plt.bar(df['time'].value_counts().index,df['time'].value_counts().values)"
   ]
  },
  {
   "cell_type": "code",
   "execution_count": 10,
   "id": "312ae9f1",
   "metadata": {},
   "outputs": [
    {
     "data": {
      "image/png": "[encoded data removed]",
      "text/plain": [
       "<Figure size 432x288 with 1 Axes>"
      ]
     },
     "metadata": {
      "needs_background": "light"
     },
     "output_type": "display_data"
    }
   ],
   "source": [
    "plt.bar(df['type'].value_counts().index,df['type'].value_counts().values)\n",
    "plt.xticks(rotation=25)\n",
    "plt.show()"
   ]
  },
  {
   "cell_type": "code",
   "execution_count": null,
   "id": "be270db2",
   "metadata": {},
   "outputs": [],
   "source": []
  },
  {
   "cell_type": "code",
   "execution_count": null,
   "id": "1bc56bbd",
   "metadata": {},
   "outputs": [],
   "source": []
  },
  {
   "cell_type": "code",
   "execution_count": null,
   "id": "59c0deaa",
   "metadata": {},
   "outputs": [],
   "source": []
  },
  {
   "cell_type": "code",
   "execution_count": null,
   "id": "df55b5ee",
   "metadata": {},
   "outputs": [],
   "source": []
  },
  {
   "cell_type": "code",
   "execution_count": null,
   "id": "acd721b1",
   "metadata": {},
   "outputs": [],
   "source": []
  },
  {
   "cell_type": "code",
   "execution_count": null,
   "id": "77478ca4",
   "metadata": {},
   "outputs": [],
   "source": []
  },
  {
   "cell_type": "code",
   "execution_count": null,
   "id": "13105d15",
   "metadata": {},
   "outputs": [],
   "source": []
  }
 ],
 "metadata": {
  "kernelspec": {
   "display_name": "Python 3 (ipykernel)",
   "language": "python",
   "name": "python3"
  },
  "language_info": {
   "codemirror_mode": {
    "name": "ipython",
    "version": 3
   },
   "file_extension": ".py",
   "mimetype": "text/x-python",
   "name": "python",
   "nbconvert_exporter": "python",
   "pygments_lexer": "ipython3",
   "version": "3.7.9"
  }
 },
 "nbformat": 4,
 "nbformat_minor": 5
}

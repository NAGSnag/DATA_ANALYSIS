{
 "cells": [
  {
   "cell_type": "code",
   "execution_count": 1,
   "id": "c3f143ff",
   "metadata": {},
   "outputs": [],
   "source": [
    "import matplotlib.pyplot as plt\n",
    "import pandas as pd\n"
   ]
  },
  {
   "cell_type": "markdown",
   "id": "fbbb1db2",
   "metadata": {},
   "source": [
    "### Data extraction\n"
   ]
  },
  {
   "cell_type": "code",
   "execution_count": null,
   "id": "bc44f8b4",
   "metadata": {},
   "outputs": [],
   "source": [
    "import requests\n",
    "from bs4 import BeautifulSoup\n",
    "from openpyxl.workbook import Workbook\n",
    "url='https://www.imdb.com/chart/top/'\n",
    "headers = {'User-Agent': 'Mozilla/5.0 (Macintosh; Intel Mac OS X 10_11_5) AppleWebKit/537.36 (KHTML, like Gecko) Chrome/50.0.2661.102 Safari/537.36'}\n",
    "content=requests.get(url,headers=headers)\n",
    "content=content.content\n",
    "soup=BeautifulSoup(content,'html.parser')\n",
    "print(soup.title)\n",
    "list=(soup.find_all('a',class_=\"ipc-title-link-wrapper\" ))\n",
    "movies={}\n",
    "for i in list:movies[i.getText()]= {'year':0,'runtime':0,'certificate':0}\n",
    "date=soup.find_all('li',class_=\"ipc-metadata-list-summary-item sc-59b6048d-0 cuaJSp cli-parent\")\n",
    "txt=[]\n",
    "for d in date:\n",
    "    txt.append(d.getText())\n",
    "year=[]\n",
    "namel=[]\n",
    "runtime=[]\n",
    "certificate=[]\n",
    "rate=[]\n",
    "vote=[]\n",
    "\n",
    "for item in txt:\n",
    "    namel.append(item.split('. ')[1].rsplit(' ', 1)[0])\n",
    "for item in namel:\n",
    "    hr=''\n",
    "    for i in range(len(item)-1,0,-1):\n",
    "        if item[i] == 'h':\n",
    "            hr += item[i - 1]\n",
    "            break\n",
    "    runtime.append(hr)\n",
    "data=[]\n",
    "min=[]\n",
    "for item in txt:\n",
    "    data.append(item.split('. ')[1].rsplit(' ', 1))\n",
    "for d in data:\n",
    "    try:\n",
    "        min.append(d[1])\n",
    "    except Exception:\n",
    "        min.append('null');pass\n",
    "for i in range(len(min)):\n",
    "    m='.'\n",
    "    if min[i] == 'null': continue\n",
    "    for j in range(len(min[i])):\n",
    "        if min[i][j]=='m':break\n",
    "        else:\n",
    "            m+=min[i][j]\n",
    "    runtime[i]+=m\n",
    "\n",
    "for i in range(len(min)):\n",
    "    min[i]=min[i][3:]\n",
    "for i in range(len(min)):\n",
    "    c=''\n",
    "    for i in min[i]:\n",
    "        if i.isdigit():\n",
    "            break\n",
    "        else:\n",
    "            c+=i\n",
    "\n",
    "    certificate.append(c)\n",
    "for i in range(len(min)):\n",
    "    r=''\n",
    "    for j in range(len(min[i])):\n",
    "        if min[i][j].isdigit():\n",
    "            r+=min[i][j]\n",
    "            r+=min[i][j+1]\n",
    "            r+=min[i][j+2]\n",
    "            break\n",
    "    rate.append(r)\n",
    "\n",
    "for i in range(len(min)):\n",
    "    v=''\n",
    "    pick=False\n",
    "    for j in range(len(min[i])):\n",
    "        if min[i][j]=='(':\n",
    "            pick=True\n",
    "            continue\n",
    "        if min[i][j] == ')':\n",
    "            pick=False\n",
    "            break\n",
    "        if pick:\n",
    "            v+=min[i][j]\n",
    "\n",
    "    vote.append(v)\n",
    "\n",
    "for i in range(len(namel)):\n",
    "    namel[i]=namel[i][:-2]\n",
    "for i in range(len(namel)):\n",
    "    year.append(namel[i][-4:])\n",
    "wb=Workbook()\n",
    "sheet=wb.active\n",
    "sheet.title = 'imdb'\n",
    "header=['name','year',\"runtime\",'certificate','rate','vote']\n",
    "sheet.append(header)\n",
    "\n",
    "for i in range(250):\n",
    "    sheet.append([namel[i],year[i],runtime[i],certificate[i],rate[i],vote[i]])\n",
    "wb.save(filename = 'imdb_data.xlsx')\n"
   ]
  },
  {
   "cell_type": "markdown",
   "id": "86ce07ef",
   "metadata": {},
   "source": [
    "## ANALYSIS\n"
   ]
  },
  {
   "cell_type": "code",
   "execution_count": 2,
   "id": "2f9fface",
   "metadata": {},
   "outputs": [
    {
     "name": "stderr",
     "output_type": "stream",
     "text": [
      "C:\\Users\\Nagasheshu\\AppData\\Local\\Packages\\PythonSoftwareFoundation.Python.3.7_qbz5n2kfra8p0\\LocalCache\\local-packages\\Python37\\site-packages\\ipykernel_launcher.py:14: SettingWithCopyWarning: \n",
      "A value is trying to be set on a copy of a slice from a DataFrame\n",
      "\n",
      "See the caveats in the documentation: https://pandas.pydata.org/pandas-docs/stable/user_guide/indexing.html#returning-a-view-versus-a-copy\n",
      "  \n",
      "C:\\Users\\Nagasheshu\\AppData\\Local\\Packages\\PythonSoftwareFoundation.Python.3.7_qbz5n2kfra8p0\\LocalCache\\local-packages\\Python37\\site-packages\\ipykernel_launcher.py:16: SettingWithCopyWarning: \n",
      "A value is trying to be set on a copy of a slice from a DataFrame\n",
      "\n",
      "See the caveats in the documentation: https://pandas.pydata.org/pandas-docs/stable/user_guide/indexing.html#returning-a-view-versus-a-copy\n",
      "  \n",
      "C:\\Users\\Nagasheshu\\AppData\\Local\\Packages\\PythonSoftwareFoundation.Python.3.7_qbz5n2kfra8p0\\LocalCache\\local-packages\\Python37\\site-packages\\ipykernel_launcher.py:18: SettingWithCopyWarning: \n",
      "A value is trying to be set on a copy of a slice from a DataFrame\n",
      "\n",
      "See the caveats in the documentation: https://pandas.pydata.org/pandas-docs/stable/user_guide/indexing.html#returning-a-view-versus-a-copy\n"
     ]
    },
    {
     "data": {
      "text/html": [
       "<div>\n",
       "<style scoped>\n",
       "    .dataframe tbody tr th:only-of-type {\n",
       "        vertical-align: middle;\n",
       "    }\n",
       "\n",
       "    .dataframe tbody tr th {\n",
       "        vertical-align: top;\n",
       "    }\n",
       "\n",
       "    .dataframe thead th {\n",
       "        text-align: right;\n",
       "    }\n",
       "</style>\n",
       "<table border=\"1\" class=\"dataframe\">\n",
       "  <thead>\n",
       "    <tr style=\"text-align: right;\">\n",
       "      <th></th>\n",
       "      <th>name</th>\n",
       "      <th>year</th>\n",
       "      <th>runtime</th>\n",
       "      <th>certificate</th>\n",
       "      <th>rate</th>\n",
       "      <th>vote</th>\n",
       "    </tr>\n",
       "  </thead>\n",
       "  <tbody>\n",
       "    <tr>\n",
       "      <th>0</th>\n",
       "      <td>The Shawshank Redemption1994</td>\n",
       "      <td>1994</td>\n",
       "      <td>2.22</td>\n",
       "      <td>A</td>\n",
       "      <td>9.3</td>\n",
       "      <td>2800000.0</td>\n",
       "    </tr>\n",
       "    <tr>\n",
       "      <th>1</th>\n",
       "      <td>The Godfather1972</td>\n",
       "      <td>1972</td>\n",
       "      <td>2.55</td>\n",
       "      <td>A</td>\n",
       "      <td>9.2</td>\n",
       "      <td>2000000.0</td>\n",
       "    </tr>\n",
       "    <tr>\n",
       "      <th>2</th>\n",
       "      <td>The Dark Knight2008</td>\n",
       "      <td>2008</td>\n",
       "      <td>2.32</td>\n",
       "      <td>UA</td>\n",
       "      <td>9.0</td>\n",
       "      <td>2800000.0</td>\n",
       "    </tr>\n",
       "    <tr>\n",
       "      <th>3</th>\n",
       "      <td>The Godfather: Part II1974</td>\n",
       "      <td>1974</td>\n",
       "      <td>3.22</td>\n",
       "      <td>A</td>\n",
       "      <td>9.0</td>\n",
       "      <td>1300000.0</td>\n",
       "    </tr>\n",
       "    <tr>\n",
       "      <th>4</th>\n",
       "      <td>12 Angry Men1957</td>\n",
       "      <td>1957</td>\n",
       "      <td>1.36</td>\n",
       "      <td>U</td>\n",
       "      <td>9.0</td>\n",
       "      <td>840000.0</td>\n",
       "    </tr>\n",
       "    <tr>\n",
       "      <th>...</th>\n",
       "      <td>...</td>\n",
       "      <td>...</td>\n",
       "      <td>...</td>\n",
       "      <td>...</td>\n",
       "      <td>...</td>\n",
       "      <td>...</td>\n",
       "    </tr>\n",
       "    <tr>\n",
       "      <th>241</th>\n",
       "      <td>The 400 Blows1959</td>\n",
       "      <td>1959</td>\n",
       "      <td>1.39</td>\n",
       "      <td>U</td>\n",
       "      <td>8.1</td>\n",
       "      <td>125000.0</td>\n",
       "    </tr>\n",
       "    <tr>\n",
       "      <th>242</th>\n",
       "      <td>Aladdin1992</td>\n",
       "      <td>1992</td>\n",
       "      <td>1.30</td>\n",
       "      <td>U</td>\n",
       "      <td>8.0</td>\n",
       "      <td>453000.0</td>\n",
       "    </tr>\n",
       "    <tr>\n",
       "      <th>243</th>\n",
       "      <td>Persona19661h 25mN</td>\n",
       "      <td>1966</td>\n",
       "      <td>1.25</td>\n",
       "      <td>Passed</td>\n",
       "      <td>8.1</td>\n",
       "      <td>128000.0</td>\n",
       "    </tr>\n",
       "    <tr>\n",
       "      <th>244</th>\n",
       "      <td>Dances with Wolves1990</td>\n",
       "      <td>1990</td>\n",
       "      <td>3.1</td>\n",
       "      <td>NaN</td>\n",
       "      <td>8.0</td>\n",
       "      <td>284000.0</td>\n",
       "    </tr>\n",
       "    <tr>\n",
       "      <th>245</th>\n",
       "      <td>Life of Brian1979</td>\n",
       "      <td>1979</td>\n",
       "      <td>1.34</td>\n",
       "      <td>R</td>\n",
       "      <td>8.0</td>\n",
       "      <td>417000.0</td>\n",
       "    </tr>\n",
       "  </tbody>\n",
       "</table>\n",
       "<p>246 rows × 6 columns</p>\n",
       "</div>"
      ],
      "text/plain": [
       "                             name  year runtime certificate  rate       vote\n",
       "0    The Shawshank Redemption1994  1994    2.22           A   9.3  2800000.0\n",
       "1               The Godfather1972  1972    2.55           A   9.2  2000000.0\n",
       "2             The Dark Knight2008  2008    2.32          UA   9.0  2800000.0\n",
       "3      The Godfather: Part II1974  1974    3.22           A   9.0  1300000.0\n",
       "4                12 Angry Men1957  1957    1.36           U   9.0   840000.0\n",
       "..                            ...   ...     ...         ...   ...        ...\n",
       "241             The 400 Blows1959  1959    1.39           U   8.1   125000.0\n",
       "242                   Aladdin1992  1992    1.30           U   8.0   453000.0\n",
       "243            Persona19661h 25mN  1966    1.25      Passed   8.1   128000.0\n",
       "244        Dances with Wolves1990  1990     3.1         NaN   8.0   284000.0\n",
       "245             Life of Brian1979  1979    1.34           R   8.0   417000.0\n",
       "\n",
       "[246 rows x 6 columns]"
      ]
     },
     "execution_count": 2,
     "metadata": {},
     "output_type": "execute_result"
    }
   ],
   "source": [
    "df=pd.read_csv('imdb_data_c.csv')\n",
    "try:\n",
    "    df['year']=pd.to_numeric(df['year'])\n",
    "    df['runtime']=pd.to_numeric(df['runtime'])\n",
    "    df['rate']=pd.to_numeric(df['rate'])\n",
    "    df['certificate'].replace(' ',Null)\n",
    "    df['vote']=df['vote'].replace('na',0)\n",
    "    df['vote']=df['vote'].replace('nan',0)\n",
    "\n",
    "except Exception:pass\n",
    "for i in range(len(df['vote'])):\n",
    "    a=df['vote'][i]\n",
    "    a=str(a)[-1]\n",
    "    df['vote'][i]=str(df['vote'][i])[:-1]\n",
    "    if a=='m' or a=='M':\n",
    "        df['vote'][i]=float(df['vote'][i])*1000000\n",
    "    elif a=='k' or a==\"K\":\n",
    "        df['vote'][i]=float(df['vote'][i])*1000\n",
    "    else:pass\n",
    "df"
   ]
  },
  {
   "cell_type": "code",
   "execution_count": 3,
   "id": "0479b1a3",
   "metadata": {},
   "outputs": [
    {
     "data": {
      "image/png": "[encoded data removed]",
      "text/plain": [
       "<Figure size 432x288 with 1 Axes>"
      ]
     },
     "metadata": {
      "needs_background": "light"
     },
     "output_type": "display_data"
    }
   ],
   "source": [
    "plt.barh(df['name'][:15],width=df['rate'][:15])\n",
    "plt.title(\"top 15 popular rated movie\")\n",
    "plt.show()"
   ]
  },
  {
   "cell_type": "markdown",
   "id": "43126565",
   "metadata": {},
   "source": [
    "## finding which year released most popular movies\n"
   ]
  },
  {
   "cell_type": "code",
   "execution_count": 4,
   "id": "e3cf0dc5",
   "metadata": {},
   "outputs": [
    {
     "data": {
      "image/png": "[encoded data removed]",
      "text/plain": [
       "<Figure size 432x288 with 1 Axes>"
      ]
     },
     "metadata": {
      "needs_background": "light"
     },
     "output_type": "display_data"
    }
   ],
   "source": [
    "plt.bar(df['year'].value_counts()[:8].index,df['year'].value_counts().values[:8])\n",
    "plt.xlabel(\"number of movies\")\n",
    "plt.ylabel(\"years\")\n",
    "plt.show()"
   ]
  },
  {
   "cell_type": "markdown",
   "id": "b212da4c",
   "metadata": {},
   "source": [
    "## popular movie certifications"
   ]
  },
  {
   "cell_type": "code",
   "execution_count": 5,
   "id": "45b7d387",
   "metadata": {},
   "outputs": [
    {
     "data": {
      "image/png": "[encoded data removed]",
      "text/plain": [
       "<Figure size 432x288 with 1 Axes>"
      ]
     },
     "metadata": {
      "needs_background": "light"
     },
     "output_type": "display_data"
    }
   ],
   "source": [
    "plt.bar(df['certificate'].value_counts()[:8].index,df['certificate'].value_counts().values[:8])\n",
    "plt.xlabel(\"number of movies\")\n",
    "plt.ylabel(\"years\")\n",
    "plt.show()"
   ]
  },
  {
   "cell_type": "markdown",
   "id": "66f08d9e",
   "metadata": {},
   "source": [
    "## Movie with high votes"
   ]
  },
  {
   "cell_type": "code",
   "execution_count": 7,
   "id": "4de58d4d",
   "metadata": {},
   "outputs": [
    {
     "data": {
      "image/png": "[encoded data removed]",
      "text/plain": [
       "<Figure size 432x288 with 1 Axes>"
      ]
     },
     "metadata": {
      "needs_background": "light"
     },
     "output_type": "display_data"
    }
   ],
   "source": [
    "z=zip(df['name'],df['vote'])\n",
    "df['vote']=df['vote'].replace('na',0)\n",
    "df['vote']=pd.to_numeric(df['vote'])\n",
    "z=sorted(z,key=lambda x:int(x[1]),reverse=True)\n",
    "names=[item[0] for item in z]\n",
    "votes=[int(item[1]) for item in z]\n",
    "plt.barh(names[:20],width=votes[:20])\n",
    "plt.title(\"top 15 popular rated movie\")\n",
    "plt.show()"
   ]
  },
  {
   "cell_type": "code",
   "execution_count": null,
   "id": "1931efaf",
   "metadata": {},
   "outputs": [],
   "source": [
    "## runtime\n"
   ]
  },
  {
   "cell_type": "code",
   "execution_count": 8,
   "id": "af2cd0d8",
   "metadata": {},
   "outputs": [
    {
     "data": {
      "image/png": "[encoded data removed]",
      "text/plain": [
       "<Figure size 432x288 with 1 Axes>"
      ]
     },
     "metadata": {
      "needs_background": "light"
     },
     "output_type": "display_data"
    },
    {
     "name": "stdout",
     "output_type": "stream",
     "text": [
      "average runtime: 1.9999186991869915\n"
     ]
    }
   ],
   "source": [
    "plt.bar(df['runtime'].value_counts()[:8].index,df['runtime'].value_counts().values[:8])\n",
    "plt.xlabel(\"number of movies\")\n",
    "plt.ylabel(\"years\")\n",
    "plt.show()\n",
    "s=0\n",
    "for i in df['runtime']:\n",
    "    try:\n",
    "        n=float(i)\n",
    "        if str(n).isalpha():continue\n",
    "        s+=n\n",
    "    except Exception as e:pass\n",
    "print('average runtime:',s/len(df['runtime']))"
   ]
  },
  {
   "cell_type": "code",
   "execution_count": 20,
   "id": "659135d0",
   "metadata": {},
   "outputs": [
    {
     "data": {
      "text/html": [
       "<div>\n",
       "<style scoped>\n",
       "    .dataframe tbody tr th:only-of-type {\n",
       "        vertical-align: middle;\n",
       "    }\n",
       "\n",
       "    .dataframe tbody tr th {\n",
       "        vertical-align: top;\n",
       "    }\n",
       "\n",
       "    .dataframe thead th {\n",
       "        text-align: right;\n",
       "    }\n",
       "</style>\n",
       "<table border=\"1\" class=\"dataframe\">\n",
       "  <thead>\n",
       "    <tr style=\"text-align: right;\">\n",
       "      <th></th>\n",
       "      <th>rate</th>\n",
       "      <th>vote</th>\n",
       "      <th>year</th>\n",
       "    </tr>\n",
       "  </thead>\n",
       "  <tbody>\n",
       "    <tr>\n",
       "      <th>rate</th>\n",
       "      <td>1.000000</td>\n",
       "      <td>-0.013569</td>\n",
       "      <td>0.050993</td>\n",
       "    </tr>\n",
       "    <tr>\n",
       "      <th>vote</th>\n",
       "      <td>-0.013569</td>\n",
       "      <td>1.000000</td>\n",
       "      <td>0.169445</td>\n",
       "    </tr>\n",
       "    <tr>\n",
       "      <th>year</th>\n",
       "      <td>0.050993</td>\n",
       "      <td>0.169445</td>\n",
       "      <td>1.000000</td>\n",
       "    </tr>\n",
       "  </tbody>\n",
       "</table>\n",
       "</div>"
      ],
      "text/plain": [
       "          rate      vote      year\n",
       "rate  1.000000 -0.013569  0.050993\n",
       "vote -0.013569  1.000000  0.169445\n",
       "year  0.050993  0.169445  1.000000"
      ]
     },
     "execution_count": 20,
     "metadata": {},
     "output_type": "execute_result"
    },
    {
     "data": {
      "image/png": "[encoded data removed]",
      "text/plain": [
       "<Figure size 288x288 with 2 Axes>"
      ]
     },
     "metadata": {
      "needs_background": "light"
     },
     "output_type": "display_data"
    }
   ],
   "source": [
    "df['rate']=df['rate'].fillna(0)\n",
    "df['vote']=df['vote'].fillna(0)\n",
    "df['vote']=df['vote'].replace('na',0)\n",
    "df['year']=df['year'].replace('40mN',0)\n",
    "df['year']=df['year'].replace(' 1mN',0)\n",
    "df['year']=df['year'].fillna(0)\n",
    "df['year']=pd.to_numeric(df['year'])\n",
    "cor=df[['rate','vote','year']].corr()\n",
    "fig=plt.matshow(cor)\n",
    "plt.colorbar(fig)\n",
    "cor"
   ]
  },
  {
   "cell_type": "code",
   "execution_count": null,
   "id": "92a55ffb",
   "metadata": {},
   "outputs": [],
   "source": []
  }
 ],
 "metadata": {
  "kernelspec": {
   "display_name": "Python 3 (ipykernel)",
   "language": "python",
   "name": "python3"
  },
  "language_info": {
   "codemirror_mode": {
    "name": "ipython",
    "version": 3
   },
   "file_extension": ".py",
   "mimetype": "text/x-python",
   "name": "python",
   "nbconvert_exporter": "python",
   "pygments_lexer": "ipython3",
   "version": "3.7.9"
  }
 },
 "nbformat": 4,
 "nbformat_minor": 5
}
